{
 "cells": [
  {
   "cell_type": "code",
   "execution_count": 1,
   "id": "e4168584-20e2-49c5-9284-d259bde39312",
   "metadata": {},
   "outputs": [
    {
     "name": "stdout",
     "output_type": "stream",
     "text": [
      "Warning: Looks like you're using an outdated `kagglehub` version, please consider updating (latest version: 0.3.12)\n",
      "Downloading from https://www.kaggle.com/api/v1/datasets/download/lava18/google-play-store-apps?dataset_version_number=6...\n"
     ]
    },
    {
     "name": "stderr",
     "output_type": "stream",
     "text": [
      "100%|█████████████████████████████████████████████████████████████████████████████| 1.94M/1.94M [00:00<00:00, 2.60MB/s]"
     ]
    },
    {
     "name": "stdout",
     "output_type": "stream",
     "text": [
      "Extracting files...\n"
     ]
    },
    {
     "name": "stderr",
     "output_type": "stream",
     "text": [
      "\n"
     ]
    },
    {
     "name": "stdout",
     "output_type": "stream",
     "text": [
      "Path to dataset files: C:\\Users\\agnes\\.cache\\kagglehub\\datasets\\lava18\\google-play-store-apps\\versions\\6\n"
     ]
    }
   ],
   "source": [
    "import kagglehub\n",
    "\n",
    "# Download latest version\n",
    "path = kagglehub.dataset_download(\"lava18/google-play-store-apps\")\n",
    "\n",
    "print(\"Path to dataset files:\", path)"
   ]
  },
  {
   "cell_type": "code",
   "execution_count": 2,
   "id": "931ad357-43cc-464d-a5f2-6161ffafd04a",
   "metadata": {},
   "outputs": [
    {
     "name": "stdout",
     "output_type": "stream",
     "text": [
      " Volume in drive C has no label.\n",
      " Volume Serial Number is D429-F2CA\n",
      "\n",
      " Directory of C:\\Users\\agnes\\.cache\\kagglehub\\datasets\\lava18\\google-play-store-apps\\versions\\6\n",
      "\n",
      "07/05/2025  22.50    <DIR>          .\n",
      "07/05/2025  22.50    <DIR>          ..\n",
      "07/05/2025  22.50         1.360.155 googleplaystore.csv\n",
      "07/05/2025  22.50         7.669.276 googleplaystore_user_reviews.csv\n",
      "07/05/2025  22.50               165 license.txt\n",
      "               3 File(s)      9.029.596 bytes\n",
      "               2 Dir(s)  79.319.744.512 bytes free\n"
     ]
    }
   ],
   "source": [
    "ls C:\\Users\\agnes\\.cache\\kagglehub\\datasets\\lava18\\google-play-store-apps\\versions\\6"
   ]
  },
  {
   "cell_type": "code",
   "execution_count": 4,
   "id": "3f13e9d2-7d45-472f-9164-6e77eb8d73a7",
   "metadata": {},
   "outputs": [
    {
     "name": "stdout",
     "output_type": "stream",
     "text": [
      "        1 file(s) moved.\n"
     ]
    }
   ],
   "source": [
    "!move C:\\Users\\agnes\\.cache\\kagglehub\\datasets\\lava18\\google-play-store-apps\\versions\\6\\googleplaystore.csv .\\"
   ]
  },
  {
   "cell_type": "code",
   "execution_count": 5,
   "id": "1de26e53-fa61-4e96-8796-a54250fb2ba6",
   "metadata": {},
   "outputs": [
    {
     "name": "stdout",
     "output_type": "stream",
     "text": [
      " Volume in drive C has no label.\n",
      " Volume Serial Number is D429-F2CA\n",
      "\n",
      " Directory of C:\\Users\\agnes\\Desktop\\2025\\Datasets\n",
      "\n",
      "07/05/2025  22.50    <DIR>          .\n",
      "07/05/2025  22.49    <DIR>          ..\n",
      "07/05/2025  22.49    <DIR>          .ipynb_checkpoints\n",
      "07/05/2025  22.50         1.360.155 googleplaystore.csv\n",
      "07/05/2025  22.49               337 Untitled.ipynb\n",
      "               2 File(s)      1.360.492 bytes\n",
      "               3 Dir(s)  79.237.484.544 bytes free\n"
     ]
    }
   ],
   "source": [
    "ls"
   ]
  },
  {
   "cell_type": "code",
   "execution_count": null,
   "id": "5bcbca8c-c474-4ad6-b01a-76d11ebb1ba2",
   "metadata": {},
   "outputs": [],
   "source": []
  }
 ],
 "metadata": {
  "kernelspec": {
   "display_name": "Python 3 (ipykernel)",
   "language": "python",
   "name": "python3"
  },
  "language_info": {
   "codemirror_mode": {
    "name": "ipython",
    "version": 3
   },
   "file_extension": ".py",
   "mimetype": "text/x-python",
   "name": "python",
   "nbconvert_exporter": "python",
   "pygments_lexer": "ipython3",
   "version": "3.12.4"
  }
 },
 "nbformat": 4,
 "nbformat_minor": 5
}
